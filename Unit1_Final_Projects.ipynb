{
 "cells": [
  {
   "cell_type": "markdown",
   "metadata": {
    "deletable": true,
    "editable": true
   },
   "source": [
    "# Analyzing your experimental data\n",
    "\n",
    "Use this Jupyter Notebook to analyze the data from your experiment"
   ]
  },
  {
   "cell_type": "markdown",
   "metadata": {
    "deletable": true,
    "editable": true
   },
   "source": [
    "Put your data into one or more list as relevant for your experiment (one sample, one list; two samples, two lists):"
   ]
  },
  {
   "cell_type": "code",
   "execution_count": 2,
   "metadata": {
    "collapsed": false,
    "deletable": true,
    "editable": true
   },
   "outputs": [],
   "source": [
    "#data set\n",
    "siblings = [0, 0, 0, 0, 0, 1, 1, 1, 1, 1, 1, 1, 1, 1, 2, 2, 2, 2, 4, 7, 7, 9]"
   ]
  },
  {
   "cell_type": "markdown",
   "metadata": {
    "deletable": true,
    "editable": true
   },
   "source": [
    "Consider how you can loops and/or conditionals to analyze your data. Use the cell below to do so if you think this would be helpful:"
   ]
  },
  {
   "cell_type": "code",
   "execution_count": null,
   "metadata": {
    "collapsed": true,
    "deletable": true,
    "editable": true
   },
   "outputs": [],
   "source": []
  },
  {
   "cell_type": "markdown",
   "metadata": {
    "deletable": true,
    "editable": true
   },
   "source": [
    "Now find the mean of your dataset(s). Hint: You will need to import numpy."
   ]
  },
  {
   "cell_type": "code",
   "execution_count": 29,
   "metadata": {
    "collapsed": false,
    "deletable": true,
    "editable": true
   },
   "outputs": [
    {
     "name": "stdout",
     "output_type": "stream",
     "text": [
      "2.0\n"
     ]
    }
   ],
   "source": [
    "#mean\n",
    "import numpy as np\n",
    "print(np.mean(siblings))\n",
    "mean = np.mean(siblings)"
   ]
  },
  {
   "cell_type": "markdown",
   "metadata": {
    "deletable": true,
    "editable": true
   },
   "source": [
    "Next, find the standard deviation and variance using the np.std() and np.var() functions."
   ]
  },
  {
   "cell_type": "code",
   "execution_count": 30,
   "metadata": {
    "collapsed": false,
    "deletable": true,
    "editable": true
   },
   "outputs": [
    {
     "name": "stdout",
     "output_type": "stream",
     "text": [
      "6.0\n",
      "2.44948974278\n"
     ]
    }
   ],
   "source": [
    "#variance and standard deviation\n",
    "print(np.var(siblings))\n",
    "print(np.std(siblings))"
   ]
  },
  {
   "cell_type": "markdown",
   "metadata": {
    "deletable": true,
    "editable": true
   },
   "source": [
    "Now, find your t-value. Use the relevant code below:"
   ]
  },
  {
   "cell_type": "code",
   "execution_count": 5,
   "metadata": {
    "collapsed": false,
    "deletable": true,
    "editable": true
   },
   "outputs": [
    {
     "name": "stdout",
     "output_type": "stream",
     "text": [
      "Ttest_1sampResult(statistic=-0.74833147735478811, pvalue=0.46255961008444513)\n"
     ]
    }
   ],
   "source": [
    "#one sample t-test\n",
    "\n",
    "pop_mean = 2.4\n",
    "\n",
    "from scipy import stats\n",
    "print(stats.ttest_1samp(siblings, pop_mean))"
   ]
  },
  {
   "cell_type": "code",
   "execution_count": 6,
   "metadata": {
    "collapsed": false,
    "deletable": true,
    "editable": true
   },
   "outputs": [
    {
    
     ]
    }
   ],
   "source": [
    "#two sample t-test\n",
    "from scipy import stats\n",
    "print(stats.ttest_ind(data_list_1, data_list_2))"
   ]
  },
  {
   "cell_type": "markdown",
   "metadata": {
    "deletable": true,
    "editable": true
   },
   "source": [
    "Next, it's time to make a graph that visualizes your results. You can create a histogram for your datasets using matplotlib:"
   ]
  },
  {
   "cell_type": "code",
   "execution_count": 33,
   "metadata": {
    "collapsed": false,
    "deletable": true,
    "editable": true
   },
   "outputs": [
    {
     "data": {
      "image/png": "iVBORw0KGgoAAAANSUhEUgAAAXwAAAEjCAYAAAAxP7roAAAABHNCSVQICAgIfAhkiAAAAAlwSFlz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\nJPWEgS9JPWHgS1JPGPiS1BP/HxQABV25JG8RAAAAAElFTkSuQmCC\n",
      "text/plain": [
       "<matplotlib.figure.Figure at 0x11e8ca208>"
      ]
     },
     "metadata": {},
     "output_type": "display_data"
    }
   ],
   "source": [
    "import matplotlib.pyplot as plt\n",
    "\n",
    "# Create a histogram\n",
    "plt.hist(siblings, 12, range = [0,10])\n",
    "\n",
    "# Add a title and axis labels\n",
    "plt.suptitle(\"Number of Siblings\")\n",
    "plt.xlabel(\"Number of Siblings\")\n",
    "plt.ylabel(\"Number of Students\")\n",
    "\n",
    "# Show the graph\n",
    "plt.show()"
   ]
  },
  {
   "cell_type": "markdown",
   "metadata": {
    "deletable": true,
    "editable": true
   },
   "source": [
    "If you want to make another kind of graph, ask for help!"
   ]
  }
 ],
 "metadata": {
  "kernelspec": {
   "display_name": "Python 3",
   "language": "python",
   "name": "python3"
  },
  "language_info": {
   "codemirror_mode": {
    "name": "ipython",
    "version": 3
   },
   "file_extension": ".py",
   "mimetype": "text/x-python",
   "name": "python",
   "nbconvert_exporter": "python",
   "pygments_lexer": "ipython3",
   "version": "3.5.2"
  }
 },
 "nbformat": 4,
 "nbformat_minor": 2
}
