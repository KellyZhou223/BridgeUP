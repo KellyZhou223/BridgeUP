{
 "cells": [
  {
   "cell_type": "markdown",
   "metadata": {
    "deletable": true,
    "editable": true
   },
   "source": [
    "# Final Projects: Calculating evolutionary distance\n",
    "\n",
    "In this notebook you will compare the amino acid sequence of hemoglobin alpha from 3 different species to find out which two are most closely related."
   ]
  },
  {
   "cell_type": "markdown",
   "metadata": {
    "deletable": true,
    "editable": true
   },
   "source": [
    "You'll need to copy and paste the function from last class that finds the number of differences in two sequences:"
   ]
  },
  {
   "cell_type": "code",
   "execution_count": 1,
   "metadata": {
    "collapsed": true,
    "deletable": true,
    "editable": true
   },
   "outputs": [],
   "source": [
    "#COMPARE FUNCTION \n",
    "def compareFunc(seq1, seq2):\n",
    "    diffNum = 0\n",
    "    for i, aa in enumerate(seq1):\n",
    "            if seq2[i] != aa:\n",
    "                diffNum += 1\n",
    "    print(diffNum)"
   ]
  },
  {
   "cell_type": "markdown",
   "metadata": {
    "deletable": true,
    "editable": true
   },
   "source": [
    "In order to compare the different amino acid sequences, we need to open the files and read the sequences into new variables:"
   ]
  },
  {
   "cell_type": "code",
   "execution_count": 2,
   "metadata": {
    "collapsed": true,
    "deletable": true,
    "editable": true
   },
   "outputs": [],
   "source": [
    "manatee = open(\"4_manatee_CSN2_DNA.txt\").read()\n",
    "cow = open(\"4_cow_CSN2_DNA.txt\").read()\n",
    "dolphin = open(\"4_dolphin_CSN2_DNA.txt\").read()"
   ]
  },
  {
   "cell_type": "markdown",
   "metadata": {
    "deletable": true,
    "editable": true
   },
   "source": [
    "Decide as a group whether you want to compare DNA or protein sequences for your species. What are the pros and cons of each?"
   ]
  },
  {
   "cell_type": "code",
   "execution_count": 3,
   "metadata": {
    "collapsed": false,
    "deletable": true,
    "editable": true
   },
   "outputs": [],
   "source": [
    "#TRANSCRIBE AND TRANSLATE FUNCTIONS\n",
    "def transcribe(DNA_Sequence):\n",
    "    Dictionary = {\"A\": \"U\", \"T\": \"A\", \"C\": \"G\", \"G\": \"C\"}\n",
    "    mRNA = \"\"\n",
    "    for item in DNA_Sequence:\n",
    "        mRNA += Dictionary[item]\n",
    "    return mRNA\n",
    "def translate(rnaseq):\n",
    "    ProteinDict = {\"UUU\":\"F\", \"UUC\":\"F\", \"UUA\":\"L\", \"UUG\":\"L\", \"CUU\":\"L\", \"CUC\":\"L\", \"CUA\":\"L\", \"CUG\":\"L\", \"AUU\":\"I\", \"AUC\":\"I\", \"AUA\":\"I\", \"AUG\":\"M\", \"GUU\":\"V\", \"GUC\":\"V\", \"GUA\":\"V\", \"GUG\":\"V\", \"UCU\":\"S\", \"UCC\":\"S\", \"UCA\":\"S\", \"UCG\":\"S\", \"CCU\":\"P\", \"CCC\":\"P\", \"CCA\":\"P\", \"CCG\":\"P\", \"ACU\":\"T\", \"ACC\":\"T\", \"ACA\":\"T\", \"ACG\":\"T\", \"GCU\":\"A\", \"GCC\":\"A\", \"GCA\":\"A\", \"GCG\":\"A\", \"UAU\":\"Y\", \"UAC\":\"Y\", \"UAA\":\"\", \"UAG\":\"\", \"CAU\":\"H\", \"CAC\":\"H\", \"CAA\":\"Q\", \"CAG\":\"Q\", \"AAU\": \"N\", \"AAC\":\"N\", \"AAA\":\"K\", \"AAG\":\"K\", \"GAU\":\"D\", \"GAC\":\"D\", \"GAA\":\"E\", \"GAG\":\"E\", \"UGU\":\"C\", \"UGC\":\"C\", \"UGA\":\"\", \"UGG\":\"W\", \"CGU\":\"R\", \"CGC\":\"R\", \"CGA\":\"R\", \"CGG\":\"R\", \"AGU\":\"S\", \"AGC\":\"S\", \"AGA\":\"R\", \"AGG\":\"R\", \"GGU\":\"G\", \"GGC\":\"G\", \"GGA\":\"G\", \"GGG\":\"G\"} \n",
    "    codon = \"\"\n",
    "    protein = \"\"\n",
    "    for base in rnaseq:\n",
    "        print(base)\n",
    "        codon += base\n",
    "        if len(codon) == 3:\n",
    "            protein += ProteinDict[codon]\n",
    "            codon = \"\"\n",
    "    return protein"
   ]
  },
  {
   "cell_type": "markdown",
   "metadata": {
    "deletable": true,
    "editable": true
   },
   "source": [
    "Now call the number of differences function 3 times to compare all three of your species' sequences."
   ]
  },
  {
   "cell_type": "code",
   "execution_count": 4,
   "metadata": {
    "collapsed": false,
    "deletable": true,
    "editable": true
   },
   "outputs": [
    {
     "name": "stdout",
     "output_type": "stream",
     "text": [
      "390\n",
      "116\n",
      "398\n"
     ]
    }
   ],
   "source": [
    "compareFunc(manatee, cow)\n",
    "compareFunc(cow, dolphin)\n",
    "compareFunc(manatee, dolphin)"
   ]
  },
  {
   "cell_type": "markdown",
   "metadata": {
    "deletable": true,
    "editable": true
   },
   "source": [
    "What can you conclude based on the number of differences between each pair of species?\n",
    "\n",
    "Next, create a function that returns the percent difference between sequences and call it for your three comparisons:"
   ]
  },
  {
   "cell_type": "code",
   "execution_count": 5,
   "metadata": {
    "collapsed": false,
    "deletable": true,
    "editable": true
   },
   "outputs": [
    {
     "name": "stdout",
     "output_type": "stream",
     "text": [
      "62.5\n",
      "63.78205128205128\n",
      "18.58974358974359\n"
     ]
    }
   ],
   "source": [
    "def percentFunc(seq1, seq2):\n",
    "    diffNum = 0\n",
    "    for i, aa in enumerate(seq1):\n",
    "            if seq2[i] != aa:\n",
    "                diffNum += 1\n",
    "    percent = diffNum/len(seq1)\n",
    "    return percent*100\n",
    "\n",
    "percent_m_c = percentFunc(manatee, cow)\n",
    "percent_m_d = percentFunc(manatee, dolphin)\n",
    "percent_d_c = percentFunc(dolphin, cow)\n",
    "\n",
    "print(percent_m_c)\n",
    "print(percent_m_d)\n",
    "print(percent_d_c)"
   ]
  },
  {
   "cell_type": "markdown",
   "metadata": {
    "deletable": true,
    "editable": true
   },
   "source": [
    "Let's visualize these results! Choose a graph type that you think will communicate your conclusions effectively and create it using matplotlib:"
   ]
  },
  {
   "cell_type": "code",
   "execution_count": 8,
   "metadata": {
    "collapsed": false,
    "deletable": true,
    "editable": true
   },
   "outputs": [],
   "source": [
    "percent_mc = (percent_m_c, 100- percent_m_c)\n",
    "percent_md = (percent_m_d, 100- percent_m_d)\n",
    "percent_dc = (percent_d_c, 100- percent_d_c)"
   ]
  },
  {
   "cell_type": "code",
   "execution_count": 10,
   "metadata": {
    "collapsed": false,
    "deletable": true,
    "editable": true
   },
   "outputs": [
    {
     "data": {
      "image/png": "[encoded data removed]",
      "text/plain": [
       "<matplotlib.figure.Figure at 0x11bd6ddd8>"
      ]
     },
     "metadata": {},
     "output_type": "display_data"
    },
    {
     "data": {
      "image/png": "[encoded data removed]",
      "text/plain": [
       "<matplotlib.figure.Figure at 0x11be67898>"
      ]
     },
     "metadata": {},
     "output_type": "display_data"
    },
    {
     "data": {
      "image/png": "[encoded data removed]",
      "text/plain": [
       "<matplotlib.figure.Figure at 0x11c09aa20>"
      ]
     },
     "metadata": {},
     "output_type": "display_data"
    }
   ],
   "source": [
    "import matplotlib.pyplot as plt\n",
    "plt.pie(percent_mc, labels = [\"Differences in DNA\", \"Similarities in DNA\"])\n",
    "plt.show()\n",
    "\n",
    "plt.pie(percent_md, labels =  [\"Differences in DNA\", \"Similarities in DNA\"])\n",
    "plt.show()\n",
    "\n",
    "plt.pie(percent_dc, labels =  [\"Differences in DNA\", \"Similarities in DNA\"] )\n",
    "plt.show()"
   ]
  },
  {
   "cell_type": "code",
   "execution_count": 23,
   "metadata": {
    "collapsed": false
   },
   "outputs": [
    {
     "data": {
      "image/png": "[encoded data removed]",
      "text/plain": [
       "<matplotlib.figure.Figure at 0x11c49d278>"
      ]
     },
     "metadata": {},
     "output_type": "display_data"
    }
   ],
   "source": [
    "plt.bar(1, percent_m_c, color = \"purple\") \n",
    "plt.bar(2, percent_m_d, color = \"teal\")\n",
    "plt.bar(3, percent_d_c, color = \"pink\")\n",
    "plt.title(\"Percentages of Differences in DNA Bases\")\n",
    "plt.xticks([1, 2, 3],(\"Manatee and Cow\", \"Manatee and Dolphin\", \"Dolphin and Cow\"))\n",
    "plt.show()"
   ]
  },
  {
   "cell_type": "markdown",
   "metadata": {
    "deletable": true,
    "editable": true
   },
   "source": [
    "## Coding Challenge\n",
    "If you finish your project and want to try a challenge, come up with a hypothesis about which of the following species are most closely related to humans (carp, chicken, chimp, dog, eel, elephant, frog, gorilla, macaque monkey, mouse, orangutan, pig). Write out a ranked list with the species you think is most related to humans at the top.\n",
    "\n",
    "Then calculate the percent difference between the hemoglobin amino acid sequences of humans and each species to find out how close you came to the right ranking!"
   ]
  },
  {
   "cell_type": "code",
   "execution_count": 25,
   "metadata": {
    "collapsed": false
   },
   "outputs": [
    {
     "data": {
      "image/png": "[encoded data removed]",
      "text/plain": [
       "<matplotlib.figure.Figure at 0x11c3f2208>"
      ]
     },
     "metadata": {},
     "output_type": "display_data"
    }
   ],
   "source": [
    "carp= open(\"Carp_hemoglobin.txt\").read()\n",
    "chicken= open(\"Chicken_hemoglobin.txt\").read()\n",
    "chimp= open(\"Chimp_hemoglobin.txt\").read()\n",
    "dog= open(\"Dog_hemoglobin.txt\").read()\n",
    "eel= open(\"Eel_hemoglobin.txt\").read()\n",
    "elephant= open(\"Elephant_hemoglobin.txt\").read()\n",
    "frog= open(\"Frog_hemoglobin.txt\").read()\n",
    "gorilla= open(\"Gorilla_hemoglobin.txt\").read()\n",
    "macaque= open(\"Macaque_hemoglobin.txt\").read()\n",
    "mouse= open(\"Mouse_hemoglobin.txt\").read()\n",
    "orangutan= open(\"Orangutan_hemoglobin.txt\").read()\n",
    "pig= open(\"Pig_hemoglobin.txt\").read()\n",
    "human= open(\"Human_hemoglobin.txt\").read()\n",
    "carp=percentFunc(human,carp)\n",
    "percentFunc(human,chicken)\n",
    "percentFunc(human,chimp)\n",
    "percentFunc(human,dog)\n",
    "percentFunc(human,eel)\n",
    "percentFunc(human,elephant)\n",
    "percentFunc(human,frog)\n",
    "percentFunc(human,gorilla)\n",
    "percentFunc(human,macaque)\n",
    "percentFunc(human,mouse)\n",
    "percentFunc(human,orangutan)\n",
    "percentFunc(human,pig)\n",
    "carp=78.72340425531915\n",
    "chicken=29.78723404255319\n",
    "chimp=0.0\n",
    "dog=16.312056737588655\n",
    "eel=80.1418439716312\n",
    "elephant=17.02127659574468\n",
    "frog=42.5531914893617\n",
    "gorilla=0.7092198581560284\n",
    "macaque=3.546099290780142\n",
    "mouse=14.184397163120568\n",
    "orangutan=2.127659574468085\n",
    "pig=15.602836879432624\n",
    "plt.bar(1,carp)\n",
    "plt.bar(2,chicken)\n",
    "plt.bar(3,chimp)\n",
    "plt.bar(4,dog)\n",
    "plt.bar(5,eel)\n",
    "plt.bar(6,elephant)\n",
    "plt.bar(7,frog)\n",
    "plt.bar(8,gorilla)\n",
    "plt.bar(9,macaque)\n",
    "plt.bar(10,mouse)\n",
    "plt.bar(11,orangutan)\n",
    "plt.bar(12,pig)\n",
    "plt.xticks([1,2,3,4,5,6,7,8,9,10,11,12],(\"Carp\",\"Chicken\",\"Chimp\",\"Dog\",\"Eel\",\"Elephant\",\"Frog\",\"Gorilla\",\"Macaque\",\"Mouse\",\"Orangutan\",\"Pig\"),rotation=55)\n",
    "# Add a title and axis labels\n",
    "plt.suptitle(\"Comparison of Animals to Human Hemoglobin\")\n",
    "plt.xlabel(\"organisms\")\n",
    "plt.ylabel(\"percent similar to humans\")\n",
    "# Show the graph\n",
    "plt.show()"
   ]
  },
  {
   "cell_type": "code",
   "execution_count": null,
   "metadata": {
    "collapsed": true
   },
   "outputs": [],
   "source": []
  }
 ],
 "metadata": {
  "kernelspec": {
   "display_name": "Python 3",
   "language": "python",
   "name": "python3"
  },
  "language_info": {
   "codemirror_mode": {
    "name": "ipython",
    "version": 3
   },
   "file_extension": ".py",
   "mimetype": "text/x-python",
   "name": "python",
   "nbconvert_exporter": "python",
   "pygments_lexer": "ipython3",
   "version": "3.5.2"
  }
 },
 "nbformat": 4,
 "nbformat_minor": 2
}
